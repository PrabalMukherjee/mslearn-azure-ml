{
 "cells": [
  {
   "cell_type": "markdown",
   "metadata": {},
   "source": [
    "### This note book will do the following\n",
    "\n",
    ">   For training a model Tune hyperparameters with a sweep job\n",
    "\n",
    ">   With the best model that is saved Create a managed online endpoint.\n",
    "\n",
    ">   Deploy an MLflow model.\n",
    "\n",
    ">   Test the endpoint.\n",
    "\n",
    "#### Getting Started\n",
    "\n",
    "> In compute get the repo \n",
    "  \n",
    "  `git clone https://github.com/PrabalMukherjee/mslearn-azure-ml.git azure-ml-labs`\n",
    "\n",
    "> Run setup for creating compute \n",
    "\n",
    "  `.\\setup.sh`\n",
    "\n",
    "> Open ML workspace and in compute stand alone  terminal do the following \n",
    "\n",
    "  `pip install azure-ai-ml`\n",
    "\n",
    "  `git clone https://github.com/PrabalMukherjee/mslearn-azure-ml.git azure-ml-labs`"
   ]
  },
  {
   "cell_type": "code",
   "execution_count": null,
   "metadata": {},
   "outputs": [],
   "source": [
    "pip show azure-ai-ml"
   ]
  },
  {
   "cell_type": "code",
   "execution_count": null,
   "metadata": {},
   "outputs": [],
   "source": [
    "# Setting up Environment\n",
    "from azure.identity import InteractiveBrowserCredential, DefaultAzureCredential\n",
    "from azure.ai.ml import MLClient\n",
    "from azure.ai.ml import command, Input\n",
    "from azure.ai.ml.constants import AssetTypes\n",
    "from azure.ai.ml.entities import Data\n",
    "from azure.ai.ml.sweep import Choice\n"
   ]
  },
  {
   "cell_type": "markdown",
   "metadata": {},
   "source": [
    "#### Connect to workspace       "
   ]
  },
  {
   "cell_type": "code",
   "execution_count": null,
   "metadata": {},
   "outputs": [],
   "source": [
    "#Connect to Azure ML Workspace\n",
    "\n",
    "try:\n",
    "    credential = DefaultAzureCredential()\n",
    "    credential.get_token('https://management.azure.com/.default')\n",
    "    print(\"DefaultAzureCredential works\")\n",
    "except Exception as e:\n",
    "    print(\"DefaultAzureCredential does not work\", e)\n",
    "    credential = InteractiveBrowserCredential()\n",
    "\n",
    "#Get a handke to workspace\n",
    "ml_client = MLClient.from_config(credential=credential)\n"
   ]
  },
  {
   "cell_type": "markdown",
   "metadata": {},
   "source": [
    "#### Create a Data Asset for Input"
   ]
  },
  {
   "cell_type": "code",
   "execution_count": null,
   "metadata": {},
   "outputs": [],
   "source": [
    "input_data = Data(\n",
    "    name=\"diabetes-data\",\n",
    "    type=AssetTypes.URI_FILE,\n",
    "    path=\"data/diabetes.csv\",\n",
    "    version=\"1\"\n",
    "    )\n",
    "\n",
    "ml_client.data.create_or_update(input_data)\n",
    "\n",
    "# get the data asset\n",
    "data_asset_from_registry = ml_client.data.get(\n",
    "    name=\"diabetes-data\", version=1\n",
    ")\n",
    "print(data_asset_from_registry)"
   ]
  },
  {
   "cell_type": "markdown",
   "metadata": {},
   "source": [
    "#### Configure Command Job and Submit"
   ]
  },
  {
   "cell_type": "code",
   "execution_count": null,
   "metadata": {},
   "outputs": [],
   "source": [
    "# configure job\n",
    "# path=\"data/diabetes.csv\"\n",
    "\n",
    "job = command(\n",
    "    code=\"./src\",\n",
    "    command=\"python train.py --training_data ${{inputs.diabetes_data}} --reg_rate ${{inputs.reg_rate}}\",\n",
    "    inputs={\n",
    "        \"diabetes_data\": Input(\n",
    "            type=AssetTypes.URI_FILE, \n",
    "            path=\"azureml:diabetes-data:1\"\n",
    "            ),\n",
    "        \"reg_rate\": 0.01,\n",
    "    },\n",
    "    environment=\"AzureML-sklearn-0.24-ubuntu18.04-py37-cpu@latest\",\n",
    "    compute=\"aml-cluster\",\n",
    "    display_name=\"diabetes-train-mlflow\",\n",
    "    experiment_name=\"diabetes-training\", \n",
    "    tags={\"model_type\": \"LogisticRegression\"}\n",
    "    )\n",
    "\n",
    "# submit job\n",
    "returned_job = ml_client.create_or_update(job)\n",
    "aml_url = returned_job.studio_url\n",
    "print(\"Monitor your job at\", aml_url)"
   ]
  },
  {
   "cell_type": "markdown",
   "metadata": {},
   "source": [
    "#### Hyper parameter tuning creating and running sweep job"
   ]
  },
  {
   "cell_type": "code",
   "execution_count": null,
   "metadata": {},
   "outputs": [],
   "source": [
    "\n",
    "command_job_for_sweep = job(\n",
    "    reg_rate=Choice(values=[0.01, 0.1, 1]),\n",
    ")\n",
    "\n",
    "# apply the sweep parameter to obtain the sweep_job\n",
    "sweep_job = command_job_for_sweep.sweep(\n",
    "    compute=\"aml-cluster\",\n",
    "    sampling_algorithm=\"grid\",\n",
    "    primary_metric=\"training_accuracy_score\",\n",
    "    goal=\"Maximize\",\n",
    ")\n",
    "\n",
    "# set the name of the sweep job experiment\n",
    "sweep_job.experiment_name=\"sweep-diabetes\"\n",
    "\n",
    "# define the limits for this sweep\n",
    "sweep_job.set_limits(max_total_trials=4, max_concurrent_trials=2, timeout=7200)\n",
    "\n",
    "returned_sweep_job = ml_client.create_or_update(sweep_job)\n",
    "aml_url = returned_sweep_job.studio_url\n",
    "print(\"Monitor your job at\", aml_url)"
   ]
  },
  {
   "cell_type": "code",
   "execution_count": null,
   "metadata": {},
   "outputs": [],
   "source": [
    "# Download best trial model output\n",
    "ml_client.jobs.download(sweep_job.name, output_name=\"model\")"
   ]
  }
 ],
 "metadata": {
  "language_info": {
   "name": "python"
  }
 },
 "nbformat": 4,
 "nbformat_minor": 2
}
