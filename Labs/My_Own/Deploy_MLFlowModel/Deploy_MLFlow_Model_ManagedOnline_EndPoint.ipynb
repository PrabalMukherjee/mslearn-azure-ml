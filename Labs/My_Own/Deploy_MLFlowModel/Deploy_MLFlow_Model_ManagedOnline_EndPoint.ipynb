{
  "cells": [
    {
      "cell_type": "markdown",
      "source": [
        "### This note book will do the following\n",
        "\n",
        ">   For training a model Tune hyperparameters with a sweep job\n",
        "\n",
        ">   With the best model that is saved Create a managed online endpoint.\n",
        "\n",
        ">   Deploy an MLflow model.\n",
        "\n",
        ">   Test the endpoint.\n",
        "\n",
        "#### Getting Started\n",
        "\n",
        "> In compute get the repo \n",
        "  \n",
        "  `git clone https://github.com/PrabalMukherjee/mslearn-azure-ml.git azure-ml-labs`\n",
        "\n",
        "> Run setup for creating compute \n",
        "\n",
        "  `.\\setup.sh`\n",
        "\n",
        "> Open ML workspace and in compute stand alone  terminal do the following \n",
        "\n",
        "  `pip install azure-ai-ml`\n",
        "\n",
        "  `git clone https://github.com/PrabalMukherjee/mslearn-azure-ml.git azure-ml-labs`"
      ],
      "metadata": {}
    },
    {
      "cell_type": "code",
      "source": [
        "pip show azure-ai-ml"
      ],
      "outputs": [
        {
          "output_type": "stream",
          "name": "stdout",
          "text": "Name: azure-ai-ml\r\nVersion: 1.15.0\r\nSummary: Microsoft Azure Machine Learning Client Library for Python\r\nHome-page: https://github.com/Azure/azure-sdk-for-python\r\nAuthor: Microsoft Corporation\r\nAuthor-email: azuresdkengsysadmins@microsoft.com\r\nLicense: MIT License\r\nLocation: /anaconda/envs/azureml_py38/lib/python3.8/site-packages\r\nRequires: pyyaml, msrest, azure-storage-blob, azure-core, jsonschema, marshmallow, tqdm, azure-storage-file-share, colorama, opencensus-ext-logging, opencensus-ext-azure, pydash, pyjwt, azure-storage-file-datalake, typing-extensions, azure-mgmt-core, strictyaml, azure-common, isodate\r\nRequired-by: \r\nNote: you may need to restart the kernel to use updated packages.\n"
        }
      ],
      "execution_count": 1,
      "metadata": {
        "gather": {
          "logged": 1711734001520
        }
      }
    },
    {
      "cell_type": "code",
      "source": [
        "# Setting up Environment\n",
        "import random\n",
        "import string\n",
        "\n",
        "from azure.identity import InteractiveBrowserCredential, DefaultAzureCredential\n",
        "from azure.ai.ml import MLClient\n",
        "from azure.ai.ml import command, Input\n",
        "from azure.ai.ml.constants import AssetTypes\n",
        "from azure.ai.ml.sweep import Choice\n",
        "\n",
        "from azure.ai.ml.entities import (\n",
        "    Data,\n",
        "    ManagedOnlineEndpoint,\n",
        "    ManagedOnlineDeployment,\n",
        "    Model,\n",
        "    Environment,\n",
        "    CodeConfiguration,\n",
        ")\n"
      ],
      "outputs": [],
      "execution_count": 25,
      "metadata": {
        "gather": {
          "logged": 1711737322921
        }
      }
    },
    {
      "cell_type": "markdown",
      "source": [
        "#### Connect to workspace       "
      ],
      "metadata": {}
    },
    {
      "cell_type": "code",
      "source": [
        "#Connect to Azure ML Workspace\n",
        "\n",
        "try:\n",
        "    credential = DefaultAzureCredential()\n",
        "    credential.get_token('https://management.azure.com/.default')\n",
        "    print(\"DefaultAzureCredential works\")\n",
        "except Exception as e:\n",
        "    print(\"DefaultAzureCredential does not work\", e)\n",
        "    credential = InteractiveBrowserCredential()\n",
        "\n",
        "#Get a handke to workspace\n",
        "ml_client = MLClient.from_config(credential=credential)\n"
      ],
      "outputs": [
        {
          "output_type": "stream",
          "name": "stderr",
          "text": "Found the config file in: /config.json\n"
        },
        {
          "output_type": "stream",
          "name": "stdout",
          "text": "DefaultAzureCredential works\n"
        }
      ],
      "execution_count": 3,
      "metadata": {
        "gather": {
          "logged": 1711734012005
        }
      }
    },
    {
      "cell_type": "markdown",
      "source": [
        "#### Create a Data Asset for Input"
      ],
      "metadata": {}
    },
    {
      "cell_type": "code",
      "source": [
        "input_data = Data(\n",
        "    name=\"diabetes-data\",\n",
        "    type=AssetTypes.URI_FILE,\n",
        "    path=\"data/diabetes.csv\",\n",
        "    version=\"1\"\n",
        "    )\n",
        "\n",
        "ml_client.data.create_or_update(input_data)\n",
        "\n",
        "# get the data asset\n",
        "data_asset_from_registry = ml_client.data.get(\n",
        "    name=\"diabetes-data\", version=1\n",
        ")\n",
        "print(data_asset_from_registry)"
      ],
      "outputs": [
        {
          "output_type": "stream",
          "name": "stderr",
          "text": "\r\u001b[32mUploading diabetes.csv\u001b[32m (< 1 MB): 0.00B [00:00, ?B/s]\r\u001b[32mUploading diabetes.csv\u001b[32m (< 1 MB): 100%|██████████| 518k/518k [00:00<00:00, 11.7MB/s]\n\u001b[39m\n\n"
        },
        {
          "output_type": "stream",
          "name": "stdout",
          "text": "creation_context:\n  created_at: '2024-03-29T17:40:40.597226+00:00'\n  created_by: Prabal Mukherjee\n  created_by_type: User\n  last_modified_at: '2024-03-29T17:40:40.606774+00:00'\nid: /subscriptions/058d8843-d1d3-47ed-bfd3-0a4b79db7001/resourceGroups/rg-dp100-l9216695a5c62456390/providers/Microsoft.MachineLearningServices/workspaces/mlw-dp100-l9216695a5c62456390/data/diabetes-data/versions/1\nname: diabetes-data\npath: azureml://subscriptions/058d8843-d1d3-47ed-bfd3-0a4b79db7001/resourcegroups/rg-dp100-l9216695a5c62456390/workspaces/mlw-dp100-l9216695a5c62456390/datastores/workspaceblobstore/paths/LocalUpload/d52d15a0d7d1e95b90a03f146099424a/diabetes.csv\nproperties: {}\ntags: {}\ntype: uri_file\nversion: '1'\n\n"
        }
      ],
      "execution_count": 4,
      "metadata": {
        "gather": {
          "logged": 1711734040895
        }
      }
    },
    {
      "cell_type": "markdown",
      "source": [
        "#### Configure Command Job and Submit"
      ],
      "metadata": {}
    },
    {
      "cell_type": "code",
      "source": [
        "# configure job\n",
        "# path=\"data/diabetes.csv\"\n",
        "\n",
        "job = command(\n",
        "    code=\"./src\",\n",
        "    command=\"python train.py --training_data ${{inputs.diabetes_data}} --reg_rate ${{inputs.reg_rate}}\",\n",
        "    inputs={\n",
        "        \"diabetes_data\": Input(\n",
        "            type=AssetTypes.URI_FILE, \n",
        "            path=\"azureml:diabetes-data:1\"\n",
        "            ),\n",
        "        \"reg_rate\": 0.01,\n",
        "    },\n",
        "    environment=\"AzureML-sklearn-0.24-ubuntu18.04-py37-cpu@latest\",\n",
        "    compute=\"aml-cluster\",\n",
        "    display_name=\"diabetes-train-mlflow\",\n",
        "    experiment_name=\"diabetes-training\", \n",
        "    tags={\"model_type\": \"LogisticRegression\"}\n",
        "    )\n",
        "\n",
        "# submit job\n",
        "returned_job = ml_client.create_or_update(job)\n",
        "aml_url = returned_job.studio_url\n",
        "print(\"Monitor your job at\", aml_url)"
      ],
      "outputs": [
        {
          "output_type": "stream",
          "name": "stderr",
          "text": "Class AutoDeleteSettingSchema: This is an experimental class, and may change at any time. Please see https://aka.ms/azuremlexperimental for more information.\nClass AutoDeleteConditionSchema: This is an experimental class, and may change at any time. Please see https://aka.ms/azuremlexperimental for more information.\nClass BaseAutoDeleteSettingSchema: This is an experimental class, and may change at any time. Please see https://aka.ms/azuremlexperimental for more information.\nClass IntellectualPropertySchema: This is an experimental class, and may change at any time. Please see https://aka.ms/azuremlexperimental for more information.\nClass ProtectionLevelSchema: This is an experimental class, and may change at any time. Please see https://aka.ms/azuremlexperimental for more information.\nClass BaseIntellectualPropertySchema: This is an experimental class, and may change at any time. Please see https://aka.ms/azuremlexperimental for more information.\n\u001b[32mUploading src (0.0 MBs): 100%|██████████| 3057/3057 [00:00<00:00, 310099.34it/s]\n\u001b[39m\n\n"
        },
        {
          "output_type": "stream",
          "name": "stdout",
          "text": "Monitor your job at https://ml.azure.com/runs/great_sheep_3q4klfr3dx?wsid=/subscriptions/058d8843-d1d3-47ed-bfd3-0a4b79db7001/resourcegroups/rg-dp100-l9216695a5c62456390/workspaces/mlw-dp100-l9216695a5c62456390&tid=49887c6a-e179-452b-a5a2-ba227a9ce9f7\n"
        }
      ],
      "execution_count": 5,
      "metadata": {
        "gather": {
          "logged": 1711734070783
        }
      }
    },
    {
      "cell_type": "markdown",
      "source": [
        "#### Hyper parameter tuning creating and running sweep job"
      ],
      "metadata": {}
    },
    {
      "cell_type": "code",
      "source": [
        "\n",
        "command_job_for_sweep = job(\n",
        "    reg_rate=Choice(values=[0.01, 0.1, 1]),\n",
        ")\n",
        "\n",
        "# apply the sweep parameter to obtain the sweep_job\n",
        "sweep_job = command_job_for_sweep.sweep(\n",
        "    compute=\"aml-cluster\",\n",
        "    sampling_algorithm=\"grid\",\n",
        "    primary_metric=\"training_accuracy_score\",\n",
        "    goal=\"Maximize\",\n",
        ")\n",
        "\n",
        "# set the name of the sweep job experiment\n",
        "sweep_job.experiment_name=\"sweep-diabetes\"\n",
        "\n",
        "# define the limits for this sweep\n",
        "sweep_job.set_limits(max_total_trials=4, max_concurrent_trials=2, timeout=7200)\n",
        "\n",
        "returned_sweep_job = ml_client.create_or_update(sweep_job)\n",
        "aml_url = returned_sweep_job.studio_url\n",
        "print(\"Monitor your job at\", aml_url)"
      ],
      "outputs": [
        {
          "output_type": "stream",
          "name": "stdout",
          "text": "Monitor your job at https://ml.azure.com/runs/boring_house_mc3qjjkx8g?wsid=/subscriptions/058d8843-d1d3-47ed-bfd3-0a4b79db7001/resourcegroups/rg-dp100-l9216695a5c62456390/workspaces/mlw-dp100-l9216695a5c62456390&tid=49887c6a-e179-452b-a5a2-ba227a9ce9f7\n"
        }
      ],
      "execution_count": 6,
      "metadata": {
        "gather": {
          "logged": 1711734591672
        }
      }
    },
    {
      "cell_type": "code",
      "source": [
        "# submit the sweep\n",
        "returned_sweep_job = ml_client.create_or_update(sweep_job)\n",
        "# get a URL for the status of the job\n",
        "returned_sweep_job.services[\"Studio\"].endpoint"
      ],
      "outputs": [
        {
          "output_type": "execute_result",
          "execution_count": 7,
          "data": {
            "text/plain": "'https://ml.azure.com/runs/loving_owl_k0pbcx5rk3?wsid=/subscriptions/058d8843-d1d3-47ed-bfd3-0a4b79db7001/resourcegroups/rg-dp100-l9216695a5c62456390/workspaces/mlw-dp100-l9216695a5c62456390&tid=49887c6a-e179-452b-a5a2-ba227a9ce9f7'"
          },
          "metadata": {}
        }
      ],
      "execution_count": 7,
      "metadata": {
        "jupyter": {
          "source_hidden": false,
          "outputs_hidden": false
        },
        "nteract": {
          "transient": {
            "deleting": false
          }
        },
        "gather": {
          "logged": 1711734600714
        }
      }
    },
    {
      "cell_type": "code",
      "source": [],
      "outputs": [
        {
          "output_type": "execute_result",
          "execution_count": 9,
          "data": {
            "text/plain": "SweepJob({'type': 'sweep', 'status': 'Completed', 'log_files': None, 'name': 'boring_house_mc3qjjkx8g', 'description': None, 'tags': {'_aml_system_max_concurrent_jobs': '2', '_aml_system_max_total_jobs': '4', '_aml_system_max_duration_minutes': '120', '_aml_system_policy_config': '{\"name\":\"Default\",\"properties\":{}}', '_aml_system_generator_config': '{\"name\":\"GRID\",\"parameter_space\":{\"reg_rate\":[\"choice\",[[0.01,0.1,1]]]},\"properties\":{}}', '_aml_system_primary_metric_config': '{\"name\":\"training_accuracy_score\",\"goal\":\"maximize\"}', '_aml_system_platform_config': '{\"ServiceAddress\":\"https://eastus.api.azureml.ms\",\"SubscriptionId\":\"058d8843-d1d3-47ed-bfd3-0a4b79db7001\",\"ResourceGroupName\":\"rg-dp100-l9216695a5c62456390\",\"WorkspaceName\":\"mlw-dp100-l9216695a5c62456390\",\"ExperimentName\":\"sweep-diabetes\",\"Definition\":{\"Configuration\":null,\"Attribution\":null,\"TelemetryValues\":null,\"Overrides\":{\"Script\":null,\"Command\":\"python train.py --training_data ${{inputs.diabetes_data}} --reg_rate ${{search_space.reg_rate}}\",\"UseAbsolutePath\":true,\"Arguments\":[],\"SourceDirectoryDataStore\":null,\"Framework\":0,\"Target\":\"aml-cluster\",\"DataReferences\":{},\"Data\":{\"diabetes_data\":{\"DataLocation\":{\"Dataset\":null,\"DataPath\":null,\"Uri\":{\"Path\":\"/subscriptions/058d8843-d1d3-47ed-bfd3-0a4b79db7001/resourceGroups/rg-dp100-l9216695a5c62456390/providers/Microsoft.MachineLearningServices/workspaces/mlw-dp100-l9216695a5c62456390/data/diabetes-data/versions/1\",\"IsFile\":true},\"Type\":\"UriFile\"},\"Mechanism\":\"Mount\",\"EnvironmentVariableName\":\"AZURE_ML_INPUT_diabetes_data\",\"PathOnCompute\":null,\"Overwrite\":false,\"Options\":{\"IsEvalMode\":\"False\",\"ReadWrite\":\"False\",\"ForceFolder\":\"False\"}}},\"InputAssets\":{\"diabetes_data\":{\"Asset\":{\"AssetId\":\"azureml://locations/eastus/workspaces/8f524591-87cb-4bb1-bd78-2ffcce4ceaaf/data/diabetes-data/versions/1\",\"Type\":\"UriFile\"},\"Mechanism\":\"Mount\",\"EnvironmentVariableName\":\"AZURE_ML_INPUT_diabetes_data\",\"PathOnCompute\":null,\"Overwrite\":false,\"Options\":{\"IsEvalMode\":\"False\",\"ReadWrite\":\"False\",\"ForceFolder\":\"False\"}}},\"OutputData\":{},\"Datacaches\":[],\"JobName\":null,\"MaxRunDurationSeconds\":null,\"NodeCount\":1,\"InstanceTypes\":[],\"Priority\":null,\"CredentialPassthrough\":false,\"Identity\":null,\"Environment\":{\"Name\":\"AzureML-sklearn-0.24-ubuntu18.04-py37-cpu\",\"Version\":\"49\",\"AssetId\":\"azureml://registries/azureml/environments/AzureML-sklearn-0.24-ubuntu18.04-py37-cpu/versions/49\",\"AutoRebuild\":true,\"Python\":{\"InterpreterPath\":\"python\",\"UserManagedDependencies\":true,\"CondaDependencies\":null,\"BaseCondaEnvironment\":null},\"EnvironmentVariables\":{\"EXAMPLE_ENV_VAR\":\"EXAMPLE_VALUE\"},\"Docker\":{\"BaseImage\":null,\"Platform\":{\"Os\":\"Linux\",\"Architecture\":\"amd64\"},\"BaseDockerfile\":\"FROM mcr.microsoft.com/azureml/openmpi3.1.2-ubuntu18.04:20230227.v1\\\\n\\\\nENV AZUREML_CONDA_ENVIRONMENT_PATH /azureml-envs/sklearn-0.24.1\\\\n# Create conda environment\\\\nRUN conda create -p $AZUREML_CONDA_ENVIRONMENT_PATH \\\\\\\\\\\\n    python=3.7 pip=20.2.4\\\\n\\\\n# Prepend path to AzureML conda environment\\\\nENV PATH $AZUREML_CONDA_ENVIRONMENT_PATH/bin:$PATH\\\\n\\\\n# Install pip dependencies\\\\nRUN pip install \\'matplotlib>=3.3,<3.4\\' \\\\\\\\\\\\n                \\'psutil>=5.8,<5.9\\' \\\\\\\\\\\\n                \\'tqdm>=4.59,<4.60\\' \\\\\\\\\\\\n                \\'pandas>=1.1,<1.2\\' \\\\\\\\\\\\n                \\'scipy>=1.5,<1.6\\' \\\\\\\\\\\\n                \\'numpy>=1.10,<1.20\\' \\\\\\\\\\\\n                \\'ipykernel~=6.0\\' \\\\\\\\\\\\n                \\'azureml-core==1.51.0\\' \\\\\\\\\\\\n                \\'azureml-defaults==1.51.0\\' \\\\\\\\\\\\n                \\'azureml-mlflow==1.51.0\\' \\\\\\\\\\\\n                \\'azureml-telemetry==1.51.0\\' \\\\\\\\\\\\n                \\'scikit-learn==0.24.1\\' \\\\\\\\\\\\n                \\'debugpy~=1.6.3\\'\\\\n\\\\n# This is needed for mpi to locate libpython\\\\nENV LD_LIBRARY_PATH $AZUREML_CONDA_ENVIRONMENT_PATH/lib:$LD_LIBRARY_PATH\\\\n\",\"BaseImageRegistry\":{\"Address\":null,\"Username\":null,\"Password\":null},\"Enabled\":false,\"Arguments\":[]},\"Spark\":{\"Repositories\":[],\"Packages\":[],\"PrecachePackages\":true},\"InferencingStackVersion\":null},\"History\":{\"OutputCollection\":true,\"DirectoriesToWatch\":[\"logs\"],\"EnableMLflowTracking\":true},\"Spark\":{\"Configuration\":{}},\"ParallelTask\":{\"MaxRetriesPerWorker\":0,\"WorkerCountPerNode\":1,\"TerminalExitCodes\":null,\"Configuration\":{}},\"BatchAi\":{\"NodeCount\":0},\"AmlCompute\":{\"Name\":null,\"VmSize\":null,\"RetainCluster\":false,\"ClusterMaxNodeCount\":null},\"AISuperComputer\":{\"InstanceType\":\"D2\",\"FrameworkImage\":null,\"ImageVersion\":null,\"Location\":null,\"AISuperComputerStorageData\":null,\"Interactive\":false,\"ScalePolicy\":null,\"VirtualClusterArmId\":null,\"TensorboardLogDirectory\":null,\"SSHPublicKey\":null,\"SSHPublicKeys\":null,\"EnableAzmlInt\":true,\"Priority\":\"Medium\",\"SLATier\":\"Standard\",\"UserAlias\":null},\"KubernetesCompute\":{\"InstanceType\":null},\"Tensorflow\":{\"WorkerCount\":0,\"ParameterServerCount\":0},\"Mpi\":{\"ProcessCountPerNode\":0},\"PyTorch\":{\"CommunicationBackend\":null,\"ProcessCount\":null},\"Hdi\":{\"YarnDeployMode\":0},\"ContainerInstance\":{\"Region\":null,\"CpuCores\":2.0,\"MemoryGb\":3.5},\"ExposedPorts\":null,\"Docker\":{\"UseDocker\":true,\"SharedVolumes\":null,\"ShmSize\":\"2g\",\"Arguments\":null},\"Cmk8sCompute\":{\"Configuration\":{}},\"CommandReturnCodeConfig\":{\"ReturnCode\":0,\"SuccessfulReturnCodes\":[]},\"EnvironmentVariables\":{},\"ApplicationEndpoints\":{},\"Parameters\":[]},\"SnapshotId\":\"551574cb-731e-4f39-9238-4a1c703b5379\",\"Snapshots\":[],\"SourceCodeDataReference\":null,\"ParentRunId\":null,\"DataContainerId\":null,\"RunType\":null,\"DisplayName\":\"diabetes-train-mlflow\",\"EnvironmentAssetId\":null,\"Properties\":{},\"Tags\":{\"model_type\":\"LogisticRegression\"},\"AggregatedArtifactPath\":null},\"ParentRunId\":\"boring_house_mc3qjjkx8g\"}', '_aml_system_resume_child_runs': 'null', '_aml_system_all_jobs_generated': 'true', '_aml_system_cancellation_requested': 'false', '_aml_system_samples_generated_count': '3', 'model_type': 'LogisticRegression', '_aml_system_progress_metadata_evaluation_timestamp': '\"2024-03-29T17:49:52.143813\"', '_aml_system_progress_metadata_digest': '\"d8825aa48e670b2ec656061393c7a77c67b0a9e57865ff5bf34486175288a821\"', '_aml_system_progress_metadata_active_timestamp': '\"2024-03-29T17:49:52.143813\"', '_aml_system_optimizer_state_artifact': 'null', '_aml_system_outdated_optimizer_state_artifacts': '\"[]\"', '_aml_system_boring_house_mc3qjjkx8g_0': '{\"reg_rate\": 0.01}', '_aml_system_boring_house_mc3qjjkx8g_1': '{\"reg_rate\": 0.1}', '_aml_system_boring_house_mc3qjjkx8g_2': '{\"reg_rate\": 1}'}, 'properties': {'primary_metric_config': '{\"name\":\"training_accuracy_score\",\"goal\":\"maximize\"}', 'resume_from': 'null', 'runTemplate': 'HyperDrive', 'azureml.runsource': 'hyperdrive', 'platform': 'AML', 'ContentSnapshotId': '551574cb-731e-4f39-9238-4a1c703b5379', 'user_agent': 'managementfrontend/5926968be921cfeeb046185140905356e54f3204', 'space_size': '3', 'best_child_run_id': 'boring_house_mc3qjjkx8g_1', 'score': '0.774', 'best_metric_status': 'Succeeded', 'best_data_container_id': 'dcid.boring_house_mc3qjjkx8g_1'}, 'print_as_yaml': False, 'id': '/subscriptions/058d8843-d1d3-47ed-bfd3-0a4b79db7001/resourceGroups/rg-dp100-l9216695a5c62456390/providers/Microsoft.MachineLearningServices/workspaces/mlw-dp100-l9216695a5c62456390/jobs/boring_house_mc3qjjkx8g', 'Resource__source_path': '', 'base_path': '/mnt/batch/tasks/shared/LS_root/mounts/clusters/ci9216695a5c62456390/code/Users/prabalmukherjee/azure-ml-labs/Labs/My_Own/Deploy_MLFlowModel', 'creation_context': <azure.ai.ml.entities._system_data.SystemData object at 0x7f0c7f039eb0>, 'serialize': <msrest.serialization.Serializer object at 0x7f0c7f039be0>, 'sampling_algorithm': <azure.ai.ml.entities._job.sweep.sampling_algorithm.RandomSamplingAlgorithm object at 0x7f0c95738fd0>, 'early_termination': None, 'limits': <azure.ai.ml.entities._job.job_limits.SweepJobLimits object at 0x7f0c7f039fd0>, 'search_space': {'reg_rate': <azure.ai.ml.entities._job.sweep.search_space.Choice object at 0x7f0c7f039f40>}, 'queue_settings': None, 'objective': <azure.ai.ml._restclient.v2023_04_01_preview.models._models_py3.Objective object at 0x7f0c7f01a370>, 'resources': None, 'display_name': 'diabetes-train-mlflow', 'experiment_name': 'sweep-diabetes', 'compute': 'aml-cluster', 'services': {'Studio': <azure.ai.ml._restclient.v2023_04_01_preview.models._models_py3.JobService object at 0x7f0c7f01a2b0>}, 'inputs': {'diabetes_data': {'type': 'uri_file', 'path': 'azureml://locations/eastus/workspaces/8f524591-87cb-4bb1-bd78-2ffcce4ceaaf/data/diabetes-data/versions/1', 'mode': 'ro_mount'}}, 'outputs': {'default': {'type': 'uri_folder', 'path': 'azureml://datastores/workspaceartifactstore/ExperimentRun/dcid.boring_house_mc3qjjkx8g_1', 'mode': 'rw_mount'}}, 'trial': <azure.ai.ml.entities._job.parameterized_command.ParameterizedCommand object at 0x7f0c7f039df0>, 'identity': None})",
            "text/html": "<table style=\"width:100%\"><tr><th>Experiment</th><th>Name</th><th>Type</th><th>Status</th><th>Details Page</th></tr><tr><td>sweep-diabetes</td><td>boring_house_mc3qjjkx8g</td><td>sweep</td><td>Completed</td><td><a href=\"https://ml.azure.com/runs/boring_house_mc3qjjkx8g?wsid=/subscriptions/058d8843-d1d3-47ed-bfd3-0a4b79db7001/resourcegroups/rg-dp100-l9216695a5c62456390/workspaces/mlw-dp100-l9216695a5c62456390&amp;tid=49887c6a-e179-452b-a5a2-ba227a9ce9f7\" target=\"_blank\" rel=\"noopener\">Link to Azure Machine Learning studio</a></td></tr></table>"
          },
          "metadata": {}
        }
      ],
      "execution_count": 9,
      "metadata": {
        "jupyter": {
          "source_hidden": false,
          "outputs_hidden": false
        },
        "nteract": {
          "transient": {
            "deleting": false
          }
        },
        "gather": {
          "logged": 1711734843507
        }
      }
    },
    {
      "cell_type": "code",
      "source": [
        "# Download best trial model output\n",
        "#returned_sweep_job1 = ml_client.jobs.get(\"boring_house_mc3qjjkx8g\")\n",
        "ml_client.jobs.download(\"boring_house_mc3qjjkx8g\", output_name=\"model\")"
      ],
      "outputs": [],
      "execution_count": 10,
      "metadata": {
        "gather": {
          "logged": 1711734910280
        }
      }
    },
    {
      "cell_type": "code",
      "source": [
        "\n",
        "# Creating a unique endpoint name by including a random suffix\n",
        "allowed_chars = string.ascii_lowercase + string.digits\n",
        "endpoint_suffix = \"\".join(random.choice(allowed_chars) for x in range(5))\n",
        "endpoint_name = \"diabetes-endpoint-\" + endpoint_suffix\n",
        "\n",
        "print(f\"Endpoint name: {endpoint_name}\")\n",
        "# create an online endpoint\n",
        "endpoint = ManagedOnlineEndpoint(\n",
        "    name=endpoint_name,\n",
        "    description=\"Online endpoint\",\n",
        "    auth_mode=\"key\"\n",
        ")\n",
        "\n",
        "ml_client.begin_create_or_update(endpoint).result()"
      ],
      "outputs": [
        {
          "output_type": "stream",
          "name": "stdout",
          "text": "Endpoint name: diabetes-endpoint-k915z\n"
        },
        {
          "output_type": "execute_result",
          "execution_count": 19,
          "data": {
            "text/plain": "ManagedOnlineEndpoint({'public_network_access': 'Enabled', 'provisioning_state': 'Succeeded', 'scoring_uri': 'https://diabetes-endpoint-k915z.eastus.inference.ml.azure.com/score', 'openapi_uri': 'https://diabetes-endpoint-k915z.eastus.inference.ml.azure.com/swagger.json', 'name': 'diabetes-endpoint-k915z', 'description': 'Online endpoint', 'tags': {}, 'properties': {'azureml.onlineendpointid': '/subscriptions/058d8843-d1d3-47ed-bfd3-0a4b79db7001/resourcegroups/rg-dp100-l9216695a5c62456390/providers/microsoft.machinelearningservices/workspaces/mlw-dp100-l9216695a5c62456390/onlineendpoints/diabetes-endpoint-k915z', 'AzureAsyncOperationUri': 'https://management.azure.com/subscriptions/058d8843-d1d3-47ed-bfd3-0a4b79db7001/providers/Microsoft.MachineLearningServices/locations/eastus/mfeOperationsStatus/oe:8f524591-87cb-4bb1-bd78-2ffcce4ceaaf:5365a1ff-3c6b-40da-8d9d-8e272c3b3b2a?api-version=2022-02-01-preview'}, 'print_as_yaml': False, 'id': '/subscriptions/058d8843-d1d3-47ed-bfd3-0a4b79db7001/resourceGroups/rg-dp100-l9216695a5c62456390/providers/Microsoft.MachineLearningServices/workspaces/mlw-dp100-l9216695a5c62456390/onlineEndpoints/diabetes-endpoint-k915z', 'Resource__source_path': '', 'base_path': '/mnt/batch/tasks/shared/LS_root/mounts/clusters/ci9216695a5c62456390/code/Users/prabalmukherjee/azure-ml-labs/Labs/My_Own/Deploy_MLFlowModel', 'creation_context': None, 'serialize': <msrest.serialization.Serializer object at 0x7f0c7e230070>, 'auth_mode': 'key', 'location': 'eastus', 'identity': <azure.ai.ml.entities._credentials.IdentityConfiguration object at 0x7f0c7dbf56a0>, 'traffic': {}, 'mirror_traffic': {}, 'kind': 'Managed'})"
          },
          "metadata": {}
        }
      ],
      "execution_count": 19,
      "metadata": {
        "jupyter": {
          "source_hidden": false,
          "outputs_hidden": false
        },
        "nteract": {
          "transient": {
            "deleting": false
          }
        },
        "gather": {
          "logged": 1711736406588
        }
      }
    },
    {
      "cell_type": "code",
      "source": [
        "%%writefile src/score.py\n",
        "\n",
        "import json\n",
        "import joblib\n",
        "import numpy as np\n",
        "\n",
        "\n",
        "# called when the deployment is created or updated\n",
        "def init():\n",
        "    global model\n",
        "    # get the path to the registered model file and load it\n",
        "    model_path = './model/model.pkl'\n",
        "    model = joblib.load(model_path)\n",
        "\n",
        "# called when a request is received\n",
        "def run(raw_data):\n",
        "    # get the input data as a numpy array\n",
        "    data = np.array(json.loads(raw_data)['data'])\n",
        "    # get a prediction from the model\n",
        "    predictions = model.predict(data)\n",
        "    # return the predictions as any JSON serializable format\n",
        "    return predictions.tolist()"
      ],
      "outputs": [
        {
          "output_type": "stream",
          "name": "stdout",
          "text": "Writing src/score.py\n"
        }
      ],
      "execution_count": 21,
      "metadata": {
        "jupyter": {
          "source_hidden": false,
          "outputs_hidden": false
        },
        "nteract": {
          "transient": {
            "deleting": false
          }
        }
      }
    },
    {
      "cell_type": "code",
      "source": [
        "%%writefile src/conda.yml\n",
        "\n",
        "name: basic-env-cpu\n",
        "channels:\n",
        "  - conda-forge\n",
        "dependencies:\n",
        "  - python=3.7\n",
        "  - scikit-learn\n",
        "  - pandas\n",
        "  - numpy\n",
        "  - matplotlib\n"
      ],
      "outputs": [
        {
          "output_type": "stream",
          "name": "stdout",
          "text": "Writing src/conda.yml\n"
        }
      ],
      "execution_count": 22,
      "metadata": {
        "jupyter": {
          "source_hidden": false,
          "outputs_hidden": false
        },
        "nteract": {
          "transient": {
            "deleting": false
          }
        }
      }
    },
    {
      "cell_type": "code",
      "source": [
        "env = Environment(\n",
        "    image=\"mcr.microsoft.com/azureml/openmpi3.1.2-ubuntu18.04\",\n",
        "    conda_file=\"./src/conda.yml\",\n",
        "    name=\"deployment-environment\",\n",
        "    description=\"Environment created from a Docker image plus Conda environment.\",\n",
        ")\n",
        "ml_client.environments.create_or_update(env)"
      ],
      "outputs": [
        {
          "output_type": "execute_result",
          "execution_count": 24,
          "data": {
            "text/plain": "Environment({'arm_type': 'environment_version', 'latest_version': None, 'image': 'mcr.microsoft.com/azureml/openmpi3.1.2-ubuntu18.04', 'intellectual_property': None, 'is_anonymous': False, 'auto_increment_version': False, 'auto_delete_setting': None, 'name': 'deployment-environment', 'description': 'Environment created from a Docker image plus Conda environment.', 'tags': {}, 'properties': {'azureml.labels': 'latest'}, 'print_as_yaml': False, 'id': '/subscriptions/058d8843-d1d3-47ed-bfd3-0a4b79db7001/resourceGroups/rg-dp100-l9216695a5c62456390/providers/Microsoft.MachineLearningServices/workspaces/mlw-dp100-l9216695a5c62456390/environments/deployment-environment/versions/1', 'Resource__source_path': '', 'base_path': '/mnt/batch/tasks/shared/LS_root/mounts/clusters/ci9216695a5c62456390/code/Users/prabalmukherjee/azure-ml-labs/Labs/My_Own/Deploy_MLFlowModel', 'creation_context': <azure.ai.ml.entities._system_data.SystemData object at 0x7f0c7cfea550>, 'serialize': <msrest.serialization.Serializer object at 0x7f0c7cf83910>, 'version': '1', 'conda_file': {'channels': ['conda-forge'], 'dependencies': ['python=3.7', 'scikit-learn', 'pandas', 'numpy', 'matplotlib'], 'name': 'basic-env-cpu'}, 'build': None, 'inference_config': None, 'os_type': 'Linux', 'conda_file_path': None, 'path': None, 'datastore': None, 'upload_hash': None, 'translated_conda_file': '{\\n  \"channels\": [\\n    \"conda-forge\"\\n  ],\\n  \"dependencies\": [\\n    \"python=3.7\",\\n    \"scikit-learn\",\\n    \"pandas\",\\n    \"numpy\",\\n    \"matplotlib\"\\n  ],\\n  \"name\": \"basic-env-cpu\"\\n}'})"
          },
          "metadata": {}
        }
      ],
      "execution_count": 24,
      "metadata": {
        "jupyter": {
          "source_hidden": false,
          "outputs_hidden": false
        },
        "nteract": {
          "transient": {
            "deleting": false
          }
        },
        "gather": {
          "logged": 1711737249108
        }
      }
    },
    {
      "cell_type": "code",
      "source": [
        "# Creating a unique endpoint name by including a random suffix\n",
        "allowed_chars = string.ascii_lowercase + string.digits\n",
        "endpoint_suffix = \"\".join(random.choice(allowed_chars) for x in range(5))\n",
        "endpoint_name = \"diabetes-endpoint-\" + endpoint_suffix\n",
        "\n",
        "print(f\"Endpoint name: {endpoint_name}\")"
      ],
      "outputs": [
        {
          "output_type": "stream",
          "name": "stdout",
          "text": "Endpoint name: diabetes-endpoint-dowuz\n"
        }
      ],
      "execution_count": 26,
      "metadata": {
        "jupyter": {
          "source_hidden": false,
          "outputs_hidden": false
        },
        "nteract": {
          "transient": {
            "deleting": false
          }
        },
        "gather": {
          "logged": 1711737362050
        }
      }
    },
    {
      "cell_type": "code",
      "source": [
        "model = Model(path=\"./model/model.pkl\", name=\"diabetes_model\")\n",
        "\n",
        "blue_deployment = ManagedOnlineDeployment(\n",
        "    name=\"blue\",\n",
        "    endpoint_name=\"endpoint-example_pm79183\",\n",
        "    model=model,\n",
        "    environment=\"deployment-environment\",\n",
        "    code_configuration=CodeConfiguration(\n",
        "        code=\"./src\", scoring_script=\"score.py\"\n",
        "    ),\n",
        "    instance_type=\"Standard_DS3_v2\",\n",
        "    instance_count=1,\n",
        ")\n",
        "\n",
        "ml_client.online_deployments.begin_create_or_update(blue_deployment).result()"
      ],
      "outputs": [],
      "execution_count": null,
      "metadata": {
        "jupyter": {
          "source_hidden": false,
          "outputs_hidden": false
        },
        "nteract": {
          "transient": {
            "deleting": false
          }
        },
        "gather": {
          "logged": 1711738447680
        }
      }
    },
    {
      "cell_type": "code",
      "source": [],
      "outputs": [],
      "execution_count": null,
      "metadata": {
        "jupyter": {
          "source_hidden": false,
          "outputs_hidden": false
        },
        "nteract": {
          "transient": {
            "deleting": false
          }
        }
      }
    }
  ],
  "metadata": {
    "language_info": {
      "name": "python",
      "version": "3.8.5",
      "mimetype": "text/x-python",
      "codemirror_mode": {
        "name": "ipython",
        "version": 3
      },
      "pygments_lexer": "ipython3",
      "nbconvert_exporter": "python",
      "file_extension": ".py"
    },
    "microsoft": {
      "ms_spell_check": {
        "ms_spell_check_language": "en"
      },
      "host": {
        "AzureML": {
          "notebookHasBeenCompleted": true
        }
      }
    },
    "kernelspec": {
      "name": "python38-azureml",
      "language": "python",
      "display_name": "Python 3.8 - AzureML"
    },
    "kernel_info": {
      "name": "python38-azureml"
    },
    "nteract": {
      "version": "nteract-front-end@1.0.0"
    }
  },
  "nbformat": 4,
  "nbformat_minor": 2
}