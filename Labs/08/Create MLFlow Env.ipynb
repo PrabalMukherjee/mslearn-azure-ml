{
 "cells": [
  {
   "cell_type": "code",
   "execution_count": null,
   "metadata": {},
   "outputs": [],
   "source": [
    "pip show azure-ai-ml"
   ]
  },
  {
   "cell_type": "code",
   "execution_count": null,
   "metadata": {},
   "outputs": [],
   "source": [
    "from azure.identity import DefaultAzureCredential, InteractiveBrowserCredential\n",
    "from azure.ai.ml import MLClient\n",
    "\n",
    "try:\n",
    "    credential = DefaultAzureCredential()\n",
    "    # Check if given credential can get token successfully.\n",
    "    credential.get_token(\"https://management.azure.com/.default\")\n",
    "except Exception as ex:\n",
    "    # Fall back to InteractiveBrowserCredential in case DefaultAzureCredential not work\n",
    "    credential = InteractiveBrowserCredential()"
   ]
  },
  {
   "cell_type": "code",
   "execution_count": null,
   "metadata": {},
   "outputs": [],
   "source": [
    "# Get a handle to workspace\n",
    "ml_client = MLClient.from_config(credential=credential)"
   ]
  },
  {
   "cell_type": "code",
   "execution_count": null,
   "metadata": {},
   "outputs": [],
   "source": [
    "%%writefile src/mlflow-env.yml\n",
    "\n",
    "name: mlflow-env\n",
    "channels:\n",
    "  - conda-forge\n",
    "dependencies:\n",
    "  - python=3.8\n",
    "  - pip\n",
    "  - pip:\n",
    "    - numpy\n",
    "    - pandas\n",
    "    - scikit-learn\n",
    "    - matplotlib\n",
    "    - mlflow\n",
    "    - azureml-mlflow"
   ]
  },
  {
   "cell_type": "code",
   "execution_count": null,
   "metadata": {},
   "outputs": [],
   "source": [
    "from azure.ai.ml.entities import Environment\n",
    "\n",
    "env_docker_mlflow = Environment(\n",
    "    image='mcr.microsoft.com/azureml/openmpi3.1.2-cuda10.2-cudnn8-ubuntu18.04',\n",
    "    conda_file='src/mlflow-env.yml',\n",
    "    name='docker-plus-mlflow',\n",
    "    description='Environment with Docker and MLflow')\n",
    "\n",
    "ml_client.environments.create_or_update(env_docker_mlflow)"
   ]
  },
  {
   "cell_type": "code",
   "execution_count": null,
   "metadata": {},
   "outputs": [],
   "source": [
    "from azure.ai.ml import command\n",
    "\n",
    "job=command(\n",
    "    code=\"./src\",\n",
    "    command=\"python train-classification-model-mlflow.py --training_data diabetes.csv --reg_rate 1 --max_iter 1000\",\n",
    "    environment=\"docker-plus-mlflow:1\",\n",
    "    compute=\"aml-cluster\",\n",
    "    display_name=\"diabetes-train-script_mlflow\",\n",
    "    experiment_name=\"diabetes-training_mlflow\"\n",
    "\n",
    ")\n",
    "returned_job = ml_client.create_or_update(job)\n",
    "aml_url = returned_job.studio_url\n",
    "print(f\"Job submitted to {aml_url}\")"
   ]
  },
  {
   "cell_type": "code",
   "execution_count": null,
   "metadata": {},
   "outputs": [],
   "source": [
    "job=command(\n",
    "    code=\"./src\",\n",
    "    command=\"python train-classification-model-mlflow-auto.py --training_data diabetes.csv --reg_rate 1 --max_iter 1000\",\n",
    "    environment=\"docker-plus-mlflow:1\",\n",
    "    compute=\"aml-cluster\",\n",
    "    display_name=\"diabetes-train-script_mlflow_auto\",\n",
    "    experiment_name=\"diabetes-training_mlflow_auto\"\n",
    "\n",
    ")\n",
    "returned_job = ml_client.create_or_update(job)\n",
    "aml_url = returned_job.studio_url\n",
    "print(f\"Job submitted to {aml_url}\")"
   ]
  }
 ],
 "metadata": {
  "language_info": {
   "name": "python"
  }
 },
 "nbformat": 4,
 "nbformat_minor": 2
}
